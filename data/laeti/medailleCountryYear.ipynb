{
 "cells": [
  {
   "cell_type": "code",
   "execution_count": 1,
   "metadata": {},
   "outputs": [],
   "source": [
    "import pandas as pd"
   ]
  },
  {
   "cell_type": "code",
   "execution_count": 2,
   "metadata": {},
   "outputs": [],
   "source": [
    "file_path = \"C:/Users/laeti/Documents/laetitia/EPFL/Master/CoursMA2/Data visualization/dataLaeti/dataMedails.xlsx\"\n",
    "# Read data from Excel sheets\n",
    "df_men = pd.read_excel(file_path, sheet_name=\"MenTopCountry\", header=0)\n",
    "df_women = pd.read_excel(file_path, sheet_name=\"WomanTopCountry\", header=0)"
   ]
  },
  {
   "cell_type": "code",
   "execution_count": 9,
   "metadata": {},
   "outputs": [
    {
     "name": "stdout",
     "output_type": "stream",
     "text": [
      "                                Nation  Gold  Silver  Bronze  Total\n",
      "0                                  USA     3       7       4     14\n",
      "1                       United Kingdom     5       5       4     14\n",
      "2                               Kenya      7       3       2     12\n",
      "3                             Germany      0       5       5     10\n",
      "4                              Russia      4       2       2      8\n",
      "..                                 ...   ...     ...     ...    ...\n",
      "263                             Guyana     0       0       0      0\n",
      "264                              Haiti     0       0       0      0\n",
      "265  Heard Island and McDonald Islands     0       0       0      0\n",
      "266                           Honduras     0       0       0      0\n",
      "267                           Zimbabwe     0       0       0      0\n",
      "\n",
      "[268 rows x 5 columns]\n"
     ]
    }
   ],
   "source": [
    "# Combine the dataframes\n",
    "df_combined = pd.concat([df_men, df_women])\n",
    "\n",
    "# Group by Nation and sum the medals\n",
    "df_total_medals = df_combined.groupby('Nation', as_index=False).sum()\n",
    "\n",
    "# Calculate the total medals\n",
    "df_total_medals['Total'] = df_total_medals['Gold'] + df_total_medals['Silver'] + df_total_medals['Bronze']\n",
    "\n",
    "# Sort by total medals (optional)\n",
    "df_total_medals = df_total_medals.sort_values(by='Total', ascending=False).reset_index(drop=True)\n",
    "\n",
    "# Function to remove abbreviation\n",
    "def remove_abbreviation(country_name):\n",
    "    return re.sub(r'\\s*\\(.*?\\)\\s*', '', country_name)\n",
    "\n",
    "file_path_bis = \"C:/Users/laeti/Documents/laetitia/EPFL/Master/CoursMA2/Data visualization/dataLaeti/medals_per_contry_total.xlsx\"\n",
    "df_total_medals.to_csv(file_path_bis, index=False)\n",
    "# Display the resulting dataframe\n",
    "print(df_total_medals)"
   ]
  },
  {
   "cell_type": "code",
   "execution_count": 4,
   "metadata": {},
   "outputs": [],
   "source": [
    "df_women_full = pd.read_excel(file_path, sheet_name=\"WomanMedalists Full\", header=0)\n",
    "df_men_full = pd.read_excel(file_path, sheet_name=\"MenMedalistsFull\", header=0)"
   ]
  },
  {
   "cell_type": "code",
   "execution_count": 5,
   "metadata": {},
   "outputs": [],
   "source": [
    "import pandas as pd\n",
    "\n",
    "def add_winner_names(df_medals, df_winners):\n",
    "    # Initialize empty lists to store the winner names\n",
    "    gold_winners = []\n",
    "    silver_winners = []\n",
    "    bronze_winners = []\n",
    "    \n",
    "    # Iterate over each row in the medals DataFrame\n",
    "    for index, row in df_medals.iterrows():\n",
    "        year = row['Year']\n",
    "        \n",
    "        # Find the corresponding row in the winners DataFrame based on the year\n",
    "        winner_row = df_winners[df_winners['Games'] == year].iloc[0]\n",
    "        \n",
    "        # Extract winner names for each medal type only if the count is non-zero\n",
    "        gold_winner = winner_row['GoldWinner'] if row['Gold count'] > 0 else None\n",
    "        silver_winner = winner_row['SilverWinner'] if row['Silver count'] > 0 else None\n",
    "        bronze_winner = winner_row['BronzeWinner'] if row['Bronze count'] > 0 else None\n",
    "        \n",
    "        # Append winner names to the lists\n",
    "        gold_winners.append(gold_winner)\n",
    "        silver_winners.append(silver_winner)\n",
    "        bronze_winners.append(bronze_winner)\n",
    "    \n",
    "    # Add winner names to the original DataFrame\n",
    "    df_medals['Gold Winner'] = gold_winners\n",
    "    df_medals['Silver Winner'] = silver_winners\n",
    "    df_medals['Bronze Winner'] = bronze_winners\n",
    "    \n",
    "    return df_medals\n"
   ]
  },
  {
   "cell_type": "code",
   "execution_count": 6,
   "metadata": {},
   "outputs": [],
   "source": [
    "def medail_per_year(df_gender):\n",
    "\n",
    "    # Melt the dataframe to long format\n",
    "    df_melted = pd.melt(df_gender, id_vars=['Games', 'Location'], value_vars=['Gold', 'Silver', 'Bronze'], var_name='Medal', value_name='Country')\n",
    "    # Sort by year and country\n",
    "    df_melted = df_melted.sort_values(by=['Country', 'Games'])\n",
    "\n",
    "    # Pivot the melted dataframe\n",
    "    df_pivoted = df_melted.pivot_table(index=['Country', 'Games'], columns='Medal', aggfunc='size', fill_value=0).reset_index()\n",
    "\n",
    "    # Rename columns for clarity\n",
    "    df_pivoted.columns = ['Country', 'Year','Gold count', 'Silver count', 'Bronze count' ]    \n",
    "    df_pivoted = df_pivoted[['Country', 'Year','Silver count', 'Bronze count', 'Gold count' ]]  # Swapping columns because shady classification\n",
    "    df_pivoted.columns = ['Country', 'Year','Gold count', 'Silver count', 'Bronze count' ]\n",
    "    \n",
    "    return add_winner_names(df_pivoted,df_gender )"
   ]
  },
  {
   "cell_type": "code",
   "execution_count": 7,
   "metadata": {},
   "outputs": [],
   "source": [
    "medail_year_men = medail_per_year(df_men_full)\n",
    "medail_year_women=medail_per_year(df_women_full)"
   ]
  }
 ],
 "metadata": {
  "kernelspec": {
   "display_name": "Python 3",
   "language": "python",
   "name": "python3"
  },
  "language_info": {
   "codemirror_mode": {
    "name": "ipython",
    "version": 3
   },
   "file_extension": ".py",
   "mimetype": "text/x-python",
   "name": "python",
   "nbconvert_exporter": "python",
   "pygments_lexer": "ipython3",
   "version": "3.12.2"
  }
 },
 "nbformat": 4,
 "nbformat_minor": 2
}
